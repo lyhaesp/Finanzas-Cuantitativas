{
 "cells": [
  {
   "cell_type": "markdown",
   "metadata": {},
   "source": [
    "***\n",
    "# <p style='text-align: center;'>`Tarea 6`</p>\n",
    "***\n",
    "`Elaborada por: Lyha Espinosa García, Ana Cristina Vázquez Vargas.` `Expedientes: if721861, if721215`\n"
   ]
  },
  {
   "cell_type": "markdown",
   "metadata": {},
   "source": [
    "### Using taylor series solve in detail (a= 0,b= 0 andk= 2). Add all the steps"
   ]
  },
  {
   "cell_type": "markdown",
   "metadata": {},
   "source": [
    "## 1.$ f(x,y)= e^{xy}+x^{2}y^{2}+5 $"
   ]
  },
  {
   "cell_type": "markdown",
   "metadata": {},
   "source": [
    "$f(x,y)= f(a,b)+\\frac{\\partial f(a,b)}{\\partial x}(x-a)+\\frac{\\partial f(a,b)}{\\partial y}(y-b)+\\frac{1}{2!}\\left [ \\frac{\\partial^2 f(a,b)}{\\partial x^2}(x-a)^{2}+ \\frac{\\partial^2 f(a,b)}{\\partial y^2}(y-b)^{2} +\\frac{\\partial^2 f(a,b)}{\\partial x \\partial y}(x-a)(y-b) +\\frac{\\partial^2 f(a,b)}{\\partial y \\partial x}(y-b)(x-a)\\right ]\n",
    "$"
   ]
  },
  {
   "cell_type": "markdown",
   "metadata": {},
   "source": [
    "$f(a,b)= e^{0}+0+5=6$  \n",
    "\n",
    "$\\frac{\\partial f(x,y)}{\\partial x}=ye^{xy}+2xy^{2}$ por lo tanto $\\frac{\\partial f(a,b)}{\\partial x}=0$\n",
    "\n",
    "$\\frac{\\partial f(x,y)}{\\partial y}=xe^{xy}+2x^{2}y$ es decir $\\frac{\\partial f(a,b)}{\\partial y}=0$\n",
    "\n",
    "$\\frac{\\partial^2 f(x,y)}{\\partial x^2}= y^{2}e^{xy}+2y^{2}$ evaluado tenemos $\\frac{\\partial^2 f(a,b)}{\\partial x^2}= 0$\n",
    "\n",
    "$\\frac{\\partial^2 f(x,y)}{\\partial y^2}= x^{2}e^{xy}+2x^{2}$ entonces $\\frac{\\partial^2 f(a,b)}{\\partial y^2}= 0$\n"
   ]
  },
  {
   "cell_type": "markdown",
   "metadata": {},
   "source": [
    "$\\frac{\\partial^2 f(x,y)}{\\partial x\\partial y}= xye^{xy}+e^{xy}+4xy$ por lo tanto$\\frac{\\partial^2 f(a,b)}{\\partial x \\partial y}= 0 + 1 +0=1$\n",
    "\n",
    "\n",
    "$\\frac{\\partial^2 f(x,y)}{\\partial y\\partial x}= xye^{xy}+e^{xy}+4xy$ es decir $\\frac{\\partial^2 f(a,b)}{\\partial y \\partial x}= 0 + 1 +0 = 1$"
   ]
  },
  {
   "cell_type": "markdown",
   "metadata": {},
   "source": [
    "### Finalmente sustituyendo en la serie de Taylor tenemos que:\n",
    "\n",
    "$f(x,y)=6+0(x-a)+0(y-b)+\\frac{1}{2!}\\left [0(x-a)^{2}+ 0(y-b)^{2} +1(x-a)(y-b) +1(y-b)(x-a)\\right ]$  \n",
    "\n",
    "$f(x,y)=6+\\frac{1}{2!}\\left [xy +xy\\right ]$  \n",
    "\n",
    "$f(x,y)=6+\\frac{1}{2!}\\left [2xy\\right ]$\n",
    "\n",
    "$f(x,y)=6+xy$\n"
   ]
  },
  {
   "cell_type": "markdown",
   "metadata": {},
   "source": [
    "## 2. Let’s consider certain diffusion process $dXt = XtσdWt$ find a differential form of a function $f(X(t+∆t), t + ∆t) = df(t+∆t):= dft =$"
   ]
  },
  {
   "cell_type": "markdown",
   "metadata": {},
   "source": [
    "$ dft = \\frac{\\partial f_{t}^{}}{\\partial t}dt+\\frac{\\partial f_{t} }{\\partial X_{t}} dX_{t} + \\frac{1}{2!}[ \\frac{\\partial^2f_{t} }{\\partial t^2} (dt)^{2}+\\frac{\\partial^2f_{t} }{\\partial X_{t}^2} (dX_{t})^{2}+\n",
    "\\frac{\\partial^2f_{t} }{\\partial t\\partial X_{t}} dtdX_{t}+ \\frac{\\partial^2f_{t} }{\\partial X_{t}\\partial t} dX_{t}dt] $"
   ]
  },
  {
   "cell_type": "markdown",
   "metadata": {},
   "source": [
    "### Aplicando el lema de Itô  \n",
    "$(dt)^{2}=0$ \n",
    "\n",
    "$(dX_{t})^{2}= (X_t\\sigma dW_t)(X_t\\sigma dW_t)=X_t^{2}\\sigma^{2} dt$\n",
    "\n",
    "$dX_tdt=dtdX_t=(X_t\\sigma dW_t)dt = 0$  \n",
    "\n",
    "Por lo anterior simplificamos y obtenemos la expresión:  \n",
    "\n",
    "$dft = \\frac{\\partial f_{t}^{}}{\\partial t}dt+\\frac{\\partial f_{t} }{\\partial X_{t}} dX_{t} + \\frac{1}{2!}[ \\frac{\\partial^2f_{t} }{\\partial X_{t}^2} X_t^{2}\\sigma ^{2}dt] $\n",
    "\n",
    "$dft = \\frac{\\partial f_{t} }{\\partial X_{t}} dX_{t} + [ \\frac{\\partial f_t}{\\partial t}+\\frac{1}{2}\\frac{\\partial^2f_{t} }{\\partial X_{t}^2} X_t^{2}\\sigma ^{2}]dt $"
   ]
  },
  {
   "cell_type": "markdown",
   "metadata": {},
   "source": [
    "## 3) Let’s consider certain diffusion process $dXt = µS^{3}t+ σ^{2}dWt +\\frac{1}{2}dt$ find a differential form of a function $f(X(t+∆t), t + ∆t) = df(t+∆t):= dft =$"
   ]
  },
  {
   "cell_type": "markdown",
   "metadata": {},
   "source": [
    "$dft=\\frac{\\partial f}{\\partial X_t}dX_t + \\frac{\\partial f}{\\partial t}dt+\\frac{1}{2!}[\\frac{\\partial^{2} f}{\\partial X_t^{2}}(dX_t)^{2}+\\frac{\\partial^{2} f}{\\partial t^{2}}(dt)^{2}+\\frac{\\partial^2f_{t} }{\\partial X_{t}\\partial t} dX_{t}dt + \\frac{\\partial^2f_{t} }{\\partial t\\partial X_t}dtdX_{t}]$"
   ]
  },
  {
   "cell_type": "markdown",
   "metadata": {},
   "source": [
    "### Aplicando lema de Itô  \n",
    "$(dX_{t})^{2}= (\\mu S_t^{3}+\\sigma ^{2}dW_t+\\frac{1}{2}dt)^{2}$  \n",
    "\n",
    "$(dX_{t})^{2}= (\\mu S_t^{3})^{2}+(\\sigma ^{2}dW_t)^{2}+(\\frac{1}{2}dt)^{2}+2[\\mu S_t^{3}(\\sigma ^{2}dW_t)+\\mu S_t^{3}(\\frac{1}{2}dt)+\\sigma ^{2}dW_t(\\frac{1}{2}dt)]$  \n",
    "\n",
    "$(dX_{t})^{2}= \\mu ^{2}S^{6}_t + \\sigma ^{4}dt+2\\mu \\sigma^{2} S_t^{3}dW_t+\\mu S_t^{3}dt$  \n",
    "\n",
    "$(dt)^{2}=0$\n",
    "\n",
    "$dX_tdt= (\\mu S_t^{3}+\\sigma ^{2}dW_t+\\frac{1}{2}dt)dt=\\mu S_t^{3}dt$"
   ]
  },
  {
   "cell_type": "markdown",
   "metadata": {},
   "source": [
    "Al simplificar términos resulta:  \n",
    "\n",
    "$dft=\\frac{\\partial f}{\\partial X_t}dX_t + \\frac{\\partial f}{\\partial t}dt+\\frac{1}{2!}[\\frac{\\partial^{2} f}{\\partial X_t^{2}}(\\mu ^{2}S^{6}_t + \\sigma ^{4}dt+2\\mu S_t^{3}dW_t+\\mu S_t^{3}dt)+\\frac{\\partial^2f_{t} }{\\partial X_{t}\\partial t}\\mu S_t^{3}dt+\\frac{\\partial^2f_{t} }{\\partial t\\partial X_t}\\mu S_t^{3}dt]$"
   ]
  },
  {
   "cell_type": "markdown",
   "metadata": {},
   "source": [
    "Reagrupando los términos:\n",
    "\n",
    "$dft=\\frac{\\partial f}{\\partial X_t}\\mu S_t^{3} + \\frac{1}{2}\\frac{\\partial^2 f}{\\partial X_t}\\mu^{2} S_t^{6} + \\left [ \\frac{\\partial f}{\\partial X_t}\\sigma ^{4} + \\frac{\\partial^2 f}{\\partial X_t^{2}}\\mu \\sigma ^{2}S_t^{3} \\right ]dW_t + [\\frac{\\partial f }{\\partial t} + \\frac{1}{2}\\left [ \\frac{\\partial f}{\\partial X_t} + \\frac{\\partial^2 f}{\\partial X_t^2}\\sigma^{2} + \\frac{\\partial^2 f}{\\partial X_t^2} \\mu S_t^{3} + \\frac{\\partial^2 f}{\\partial X_t \\partial t}\\mu S_t^{3} + \\frac{\\partial^2 f}{\\partial t \\partial X_t}\\mu S_t^{3} \\right ]]dt$"
   ]
  }
 ],
 "metadata": {
  "kernelspec": {
   "display_name": "Python 3",
   "language": "python",
   "name": "python3"
  },
  "language_info": {
   "codemirror_mode": {
    "name": "ipython",
    "version": 3
   },
   "file_extension": ".py",
   "mimetype": "text/x-python",
   "name": "python",
   "nbconvert_exporter": "python",
   "pygments_lexer": "ipython3",
   "version": "3.7.3"
  }
 },
 "nbformat": 4,
 "nbformat_minor": 2
}
