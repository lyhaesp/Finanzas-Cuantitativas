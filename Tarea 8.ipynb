{
 "cells": [
  {
   "cell_type": "markdown",
   "metadata": {},
   "source": [
    "***\n",
    "# <p style='text-align: center;'>`Tarea 8`</p>\n",
    "***\n",
    "`Elaborada por: Lyha Espinosa García, Ana Cristina Vázquez Vargas.` `Expedientes: if721861, if721215`\n"
   ]
  },
  {
   "cell_type": "markdown",
   "metadata": {},
   "source": [
    "### Propiedad 1   \n",
    "Se tiene un portafolio de una opción de compra europea  \n",
    "$$V_t=S_tN(d_1)-ke^{-r(T-t)}N(d_2)$$  \n",
    "Para poder derivar de una manera más práctica se realiza un cambio de variable para tener todo en términos de $N(d_1)$ ya que se conoce la siguiente propiedad:  \n",
    "$$d_2=d_1-\\sigma \\sqrt{(T-t)}$$  \n",
    "Por lo que se tiene:  \n",
    "$$V_t=S_tN(d_1)-ke^{-r(T-t)}N(d1-\\sigma \\sqrt{(T-t)})$$ \n",
    "Se procede a derivar con respecto de $d_1$ la variable común:  \n",
    "$$\\frac{\\partial V_t}{\\partial d_1}[V_t=S_tN(d_1)-ke^{-r(T-t)}N(d_1-\\sigma \\sqrt{(T-t)})]$$  \n",
    "$$\\frac{\\partial V_t}{\\partial d_1}=0=S_tN'(d_1)-ke^{-r(T-t)}N'(d_1-\\sigma \\sqrt{(T-t)})$$  \n",
    "Esto resulta en la propiedad 1 que sostiene que:    \n",
    "$$S_tN'(d_1)-ke^{-r(T-t)}N'(d_1-\\sigma \\sqrt{(T-t)})=0$$ \n",
    "regresando a las variables originales se tiene lo siguiente:  \n",
    "$$S_tN'(d_1)-ke^{-r(T-t)}N'(d_2)=0$$  \n",
    "o bien que:  \n",
    "$$S_tN'(d_1)=ke^{-r(T-t)}N'(d_2)$$"
   ]
  },
  {
   "cell_type": "markdown",
   "metadata": {},
   "source": [
    "# Vega  $\\frac{\\partial V_t}{\\partial \\sigma }$"
   ]
  },
  {
   "cell_type": "markdown",
   "metadata": {},
   "source": [
    "Derivamos $d_1$ y $d_2$ con respecto a $\\sigma$"
   ]
  },
  {
   "cell_type": "markdown",
   "metadata": {},
   "source": [
    "$d_1=\\frac{ln(\\frac{S_t}{K})+(r+\\frac{\\sigma^{2} }{2})(T-t)}{\\sigma \\sqrt{T-t}}$  \n",
    "$\\frac{\\partial d_1}{\\partial \\sigma }=ln(\\frac{S_t}{K})\\sigma ^{-1}(T-t)^{-\\frac{1}{2}}+r(T-t)\\sigma ^{-1}(T-t)^{-\\frac{1}{2}}+\\frac{\\sigma ^{2}}{2}\\sigma ^{-1}(T-t)^{-\\frac{1}{2}}$  \n",
    "$\\frac{\\partial d_1}{\\partial \\sigma }=\\frac{ln(\\frac{S_t}{K})}{\\sigma ^{2}\\sqrt{T-t}}+\\frac{r(T-t)}{\\sigma ^{2}\\sqrt{T-t}}+\\frac{1}{2}\\frac{(T-t)}{\\sqrt{T-t}}$  \n",
    "\n",
    "$d_2=\\frac{ln(\\frac{S_t}{K})+(r-\\frac{\\sigma^{2} }{2})(T-t)}{\\sigma \\sqrt{T-t}} = d_1-\\sigma\\sqrt{T-t}$   \n",
    "Tomando la ultima expresión, derivamos $d_2$ con respecto a $\\sigma$  \n",
    "$\\frac{\\partial d_2}{\\partial \\sigma }=\\frac{\\partial d_1}{\\partial \\sigma }-\\sqrt{T-t}$ \n",
    "\n",
    "Con lo anterior obtenemos la siguiente propiedad (2):  \n",
    "$\\frac{\\partial d_1}{\\partial \\sigma }=\\frac{\\partial d_2}{\\partial \\sigma }+ \\sqrt{T-t}$ "
   ]
  },
  {
   "cell_type": "markdown",
   "metadata": {},
   "source": [
    "Proseguimos a encontrar Vega  \n",
    "$V_t=S_tN(d_1)-Ke^{-r(T-t)}N(d_2)$  \n",
    "\n",
    "$\\frac{\\partial V_t}{\\partial \\sigma }=St \\frac{\\partial N(d_1) }{\\partial d_1}\\frac{\\partial d_1}{\\partial \\sigma } - Ke^{-r(T-t)}\\frac{\\partial N(d_2) }{\\partial d_2}\\frac{\\partial d_2}{\\partial \\sigma }$   \n",
    "\n",
    "Aplicamos la propiedad antes encontrada (propiedad 2)  \n",
    "$\\frac{\\partial V_t}{\\partial \\sigma }=St N'(d_1)(\\frac{\\partial d_2}{\\partial \\sigma }+\\sqrt{T-t}) - Ke^{-r(T-t)}N'(d_2)\\frac{\\partial d_2}{\\partial \\sigma }$    \n",
    "\n",
    "Agrupamos términos   \n",
    "$\\frac{\\partial V_t}{\\partial \\sigma }=St N'(d_1)\\sqrt{T-t}+\\frac{\\partial d_2}{\\partial \\sigma }[St N'(d_1) - Ke^{-r(T-t)}N'(d_2)]$      \n",
    "\n",
    "Tomando en cuenta la **propiedad 1** la expresión dentro de los corchetes es $= 0$ por lo tanto:  \n",
    "$$\\nu=\\frac{\\partial V_t}{\\partial \\sigma }=St N'(d_1)\\sqrt{T-t}$$    "
   ]
  },
  {
   "cell_type": "markdown",
   "metadata": {},
   "source": [
    "# Theta $\\frac{\\partial V_t}{\\partial \\tau }$"
   ]
  },
  {
   "cell_type": "markdown",
   "metadata": {},
   "source": [
    "Considerando que $(T-t) = \\tau $  \n",
    "Derivamos $d_1$ y $d_2$ con respecto a $\\tau $  \n",
    "\n",
    "$d_1=\\frac{ln(\\frac{S_t}{K})+(r+\\frac{\\sigma^{2} }{2})(\\tau)}{\\sigma \\sqrt{\\tau}}$  \n",
    "$\\frac{\\partial d_1}{\\partial \\tau }=ln(\\frac{S_t}{K})\\sigma \\tau ^{-\\frac{1}{2}}+ (r+\\frac{\\sigma ^{2}}{2})\\sigma \\tau ^{\\frac{1}{2}}$  \n",
    "$\\frac{\\partial d_1}{\\partial \\tau }=-\\frac{1}{2}ln(\\frac{S_t}{K})\\sigma \\tau ^{-\\frac{3}{2}}+ \\frac{1}{2}(r+\\frac{\\sigma ^{2}}{2})\\sigma \\tau ^{\\frac{-1}{2}}$  \n",
    "$\\frac{\\partial d_1}{\\partial \\tau }= -\\frac{1}{2}\\frac{ln(\\frac{S_t}{K})}{\\sigma \\tau \\sqrt{\\tau }}+ \\frac{1}{2}\\frac{(r+\\frac{\\sigma ^{2}}{2})}{\\sigma \\sqrt{\\tau }}=-\\frac{1}{2\\sigma \\sqrt{\\tau }}[\\frac{ln(\\frac{S_t}{K})}{\\tau}-(r+\\frac{\\sigma ^{2}}{2})]$ \n",
    "\n",
    "$d_2=\\frac{ln(\\frac{S_t}{K})+(r-\\frac{\\sigma^{2} }{2})(\\tau)}{\\sigma \\sqrt{\\tau}} = d_1-\\sigma\\sqrt{\\tau}$   \n",
    "Tomando la ultima expresión, derivamos $d_2$ con respecto a $\\tau$  \n",
    "$\\frac{\\partial d_2}{\\partial \\tau }=\\frac{\\partial d_1}{\\partial \\tau }-\\frac{1}{2}\\frac{\\sigma}{\\sqrt{\\tau}}$  \n",
    "\n",
    "Con lo anterior obtenemos la siguiente propiedad (3):  \n",
    "$\\frac{\\partial d_1}{\\partial \\tau }=\\frac{\\partial d_2}{\\partial \\tau }+\\frac{1}{2}\\frac{\\sigma}{\\sqrt{\\tau}}$\n"
   ]
  },
  {
   "cell_type": "markdown",
   "metadata": {},
   "source": [
    "Proseguimos a encontrar Theta:  \n",
    "$V_t=S_tN(d_1)-Ke^{-r(\\tau)}N(d_2)$    \n",
    "\n",
    "$\\frac{\\partial V_t}{\\partial \\tau }=S_t\\frac{\\partial N(d_1)}{\\partial d_1}\\frac{\\partial d_1}{\\partial \\tau}-[-rKe^{-r(\\tau)}N(d_2)+\\frac{\\partial N(d_2)}{\\partial d_2}\\frac{\\partial d_2}{\\partial \\tau}Ke^{-r(\\tau)}]$  \n",
    "\n",
    "$\\frac{\\partial V_t}{\\partial \\tau }=S_tN'(d_1)\\frac{\\partial d_1}{\\partial \\tau}-[-rKe^{-r(\\tau)}N(d_2)+Ke^{-r(\\tau)}N'(d_2)\\frac{\\partial d_2}{\\partial \\tau}]$  \n",
    "\n",
    "Aplicamos la propiedad 3:  \n",
    "$\\frac{\\partial V_t}{\\partial \\tau }=S_tN'(d_1)(\\frac{\\partial d_2}{\\partial \\tau }+\\frac{1}{2}\\frac{\\sigma}{\\sqrt{\\tau}})- [-rKe^{-r(\\tau)}N(d_2)+Ke^{-r(\\tau)}N'(d_2)\\frac{\\partial d2}{\\partial \\tau}]$ \n",
    "\n",
    "Reagrupamos terminos:  \n",
    "$\\frac{\\partial V_t}{\\partial \\tau }=\\frac{1}{2}\\frac{\\sigma}{\\sqrt{\\tau}}S_tN'(d_1)+rKe^{-r(\\tau)}N(d_2)+\\frac{\\partial d_2}{\\partial \\tau}[S_tN'(d_1)-Ke^{-r(\\tau)}N'(d_2)]$\n",
    "\n",
    "Tomando en cuenta la propiedad 1 el término que se encuentra entre corchetes $=0$  \n",
    "$$\\frac{\\partial V_t}{\\partial \\tau }=\\frac{1}{2}\\frac{\\sigma}{\\sqrt{\\tau}}S_tN'(d_1)+rKe^{-r(\\tau)}N(d_2)$$    \n",
    "\n",
    "$$\\theta=-\\frac{\\partial V_t}{\\partial \\tau }=-rKe^{-r(\\tau)}N(d_2)-\\frac{1}{2}\\frac{\\sigma}{\\sqrt{\\tau}}S_tN'(d_1)$$"
   ]
  }
 ],
 "metadata": {
  "kernelspec": {
   "display_name": "Python 3",
   "language": "python",
   "name": "python3"
  },
  "language_info": {
   "codemirror_mode": {
    "name": "ipython",
    "version": 3
   },
   "file_extension": ".py",
   "mimetype": "text/x-python",
   "name": "python",
   "nbconvert_exporter": "python",
   "pygments_lexer": "ipython3",
   "version": "3.7.3"
  }
 },
 "nbformat": 4,
 "nbformat_minor": 4
}
